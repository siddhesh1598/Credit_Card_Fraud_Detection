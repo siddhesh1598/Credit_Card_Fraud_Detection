{
 "cells": [
  {
   "cell_type": "code",
   "execution_count": 1,
   "metadata": {},
   "outputs": [],
   "source": [
    "# importing libraries\n",
    "\n",
    "import numpy as np\n",
    "import matplotlib.pyplot as plt\n",
    "import pandas as pd\n",
    "from sklearn.metrics import classification_report as report\n",
    "from sklearn.metrics import accuracy_score as score"
   ]
  },
  {
   "cell_type": "code",
   "execution_count": 2,
   "metadata": {},
   "outputs": [
    {
     "name": "stdout",
     "output_type": "stream",
     "text": [
      "(28481, 30)\n"
     ]
    }
   ],
   "source": [
    "# importing datasets\n",
    "\n",
    "dataset = pd.read_csv('creditcard.csv')\n",
    "dataset = dataset.sample(frac = 0.1, random_state = 1)\n",
    "X = dataset.iloc[:, :-1].values\n",
    "y = dataset.iloc[:,30].values\n",
    "print(X.shape)"
   ]
  },
  {
   "cell_type": "code",
   "execution_count": 3,
   "metadata": {},
   "outputs": [],
   "source": [
    "# Splitting dataset into Test and Training\n",
    "\n",
    "from sklearn.model_selection import train_test_split\n",
    "X_train, X_test, y_train, y_test = train_test_split(X, y, test_size = 0.2, random_state = 0)"
   ]
  },
  {
   "cell_type": "code",
   "execution_count": 4,
   "metadata": {},
   "outputs": [
    {
     "data": {
      "text/plain": [
       "LinearRegression(copy_X=True, fit_intercept=True, n_jobs=None,\n",
       "         normalize=False)"
      ]
     },
     "execution_count": 4,
     "metadata": {},
     "output_type": "execute_result"
    }
   ],
   "source": [
    "# Fitting Multiple Linear Regression to the Training Set\n",
    "\n",
    "from sklearn.linear_model import LinearRegression\n",
    "lr = LinearRegression()\n",
    "lr.fit(X_train, y_train)"
   ]
  },
  {
   "cell_type": "code",
   "execution_count": 5,
   "metadata": {},
   "outputs": [
    {
     "name": "stdout",
     "output_type": "stream",
     "text": [
      "Accuracy before Backward Elimination:  33.59239738986187 %\n"
     ]
    }
   ],
   "source": [
    "# Prediction of the Test Set results\n",
    "\n",
    "# y_pred = lr.predict(X_test)\n",
    "print('Accuracy before Backward Elimination: ', lr.score(X_test, y_test)*100, '%')"
   ]
  },
  {
   "cell_type": "code",
   "execution_count": 6,
   "metadata": {},
   "outputs": [],
   "source": [
    "# Building the Optimal Model using Backward Elimination\n",
    "\n",
    "import statsmodels.formula.api as sm\n",
    "X = np.append(arr = np.ones((28481, 1)).astype(int), values = X, axis = 1)"
   ]
  },
  {
   "cell_type": "code",
   "execution_count": 7,
   "metadata": {},
   "outputs": [
    {
     "name": "stdout",
     "output_type": "stream",
     "text": [
      "(28481, 31)\n"
     ]
    }
   ],
   "source": [
    "print(X.shape)"
   ]
  },
  {
   "cell_type": "code",
   "execution_count": 8,
   "metadata": {},
   "outputs": [
    {
     "name": "stdout",
     "output_type": "stream",
     "text": [
      "1\n"
     ]
    }
   ],
   "source": [
    "# Backward Elimination \n",
    "\n",
    "# Calculating Optimal matrix\n",
    "\n",
    "atr = [0, 1, 2, 3, 4, 5, 6, 7, 8, 9, 10, 11, 12, 13, 14, 15, 16, 17, 18, 19, 20, 21, 22, 23, 24, 25, 26, 27, 28, 29, 30]\n",
    "X_opt = X[:, atr]\n",
    "lr_OLS = sm.OLS(endog = y, exog = X_opt).fit()\n",
    "# print(lr_OLS.summary())\n",
    "a = lr_OLS.pvalues\n",
    "# print(a)\n",
    "\n",
    "#  Find the attribute with maximum p value > 0.05\n",
    "\n",
    "m = 0\n",
    "loc = 0\n",
    "for i in range(len(a)):\n",
    "    if a[i] > m:\n",
    "        m = a[i]\n",
    "        loc = i\n",
    "\n",
    "print(atr[loc])\n",
    "    "
   ]
  },
  {
   "cell_type": "code",
   "execution_count": 9,
   "metadata": {},
   "outputs": [
    {
     "name": "stdout",
     "output_type": "stream",
     "text": [
      "27\n"
     ]
    }
   ],
   "source": [
    "# remove the above location from the atr array and repeat the steps until all p values are < 0.05\n",
    "\n",
    "atr = [0, 2, 3, 4, 5, 6, 7, 8, 9, 10, 11, 12, 13, 14, 15, 16, 17, 18, 19, 20, 21, 22, 23, 24, 25, 26, 27, 28, 29, 30]\n",
    "X_opt = X[:, atr]\n",
    "lr_OLS = sm.OLS(endog = y, exog = X_opt).fit()\n",
    "#print(lr_OLS.summary())\n",
    "a = lr_OLS.pvalues\n",
    "#print(a)\n",
    "\n",
    "m = 0\n",
    "loc = 0\n",
    "for i in range(len(a)):\n",
    "    if a[i] > m:\n",
    "        m = a[i]\n",
    "        loc = i\n",
    "\n",
    "print(atr[loc])\n"
   ]
  },
  {
   "cell_type": "code",
   "execution_count": 10,
   "metadata": {},
   "outputs": [
    {
     "name": "stdout",
     "output_type": "stream",
     "text": [
      "16\n"
     ]
    }
   ],
   "source": [
    "atr = [0, 2, 3, 4, 5, 6, 7, 8, 9, 10, 11, 12, 13, 14, 15, 16, 17, 18, 19, 20, 21, 22, 23, 24, 25, 26, 28, 29, 30]\n",
    "X_opt = X[:, atr]\n",
    "lr_OLS = sm.OLS(endog = y, exog = X_opt).fit()\n",
    "#print(lr_OLS.summary())\n",
    "a = lr_OLS.pvalues\n",
    "#print(a)\n",
    "\n",
    "m = 0\n",
    "loc = 0\n",
    "for i in range(len(a)):\n",
    "    if a[i] > m:\n",
    "        m = a[i]\n",
    "        loc = i\n",
    "\n",
    "print(atr[loc])\n"
   ]
  },
  {
   "cell_type": "code",
   "execution_count": 11,
   "metadata": {},
   "outputs": [
    {
     "name": "stdout",
     "output_type": "stream",
     "text": [
      "Accuracy after Backward Elimination:  33.61013105260717 %\n"
     ]
    }
   ],
   "source": [
    "X_train, X_test, y_train, y_test = train_test_split(X_opt, y, test_size = 0.2, random_state = 0)\n",
    "lr.fit(X_train, y_train)\n",
    "y_pred = lr.predict(X_test)\n",
    "print('Accuracy after Backward Elimination: ', lr.score(X_test, y_test)*100, '%')"
   ]
  },
  {
   "cell_type": "code",
   "execution_count": null,
   "metadata": {},
   "outputs": [],
   "source": []
  }
 ],
 "metadata": {
  "kernelspec": {
   "display_name": "Python 3",
   "language": "python",
   "name": "python3"
  },
  "language_info": {
   "codemirror_mode": {
    "name": "ipython",
    "version": 3
   },
   "file_extension": ".py",
   "mimetype": "text/x-python",
   "name": "python",
   "nbconvert_exporter": "python",
   "pygments_lexer": "ipython3",
   "version": "3.5.2"
  }
 },
 "nbformat": 4,
 "nbformat_minor": 1
}
